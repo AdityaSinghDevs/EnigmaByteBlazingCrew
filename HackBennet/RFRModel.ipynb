{
 "cells": [
  {
   "cell_type": "code",
   "execution_count": 3,
   "id": "a982ace1-d1f6-4abc-a0b7-d6d5d3d85223",
   "metadata": {},
   "outputs": [
    {
     "name": "stderr",
     "output_type": "stream",
     "text": [
      "C:\\Users\\Aditya Pratap Singh\\AppData\\Local\\Temp\\ipykernel_14264\\2846326980.py:18: FutureWarning: Downcasting behavior in `replace` is deprecated and will be removed in a future version. To retain the old behavior, explicitly call `result.infer_objects(copy=False)`. To opt-in to the future behavior, set `pd.set_option('future.no_silent_downcasting', True)`\n",
      "  data['Project_Type'] = data['Project_Type'].replace(proj_mapping)\n"
     ]
    },
    {
     "name": "stdout",
     "output_type": "stream",
     "text": [
      "      Project_ID  Project_Type Location  Area_Impacted  Air_Emissions  \\\n",
      "0  Project_65003             3   City_A          59.76         947.08   \n",
      "1  Project_71502             3   City_A          51.09         504.75   \n",
      "2  Project_71403             3   City_D          67.99         955.73   \n",
      "3  Project_24430             3   City_D          83.06         988.77   \n",
      "4  Project_71373             3   City_B          68.02         553.13   \n",
      "\n",
      "   Water_Pollution  Habitat_Loss  Carbon_Footprint Mitigation_Plan  \\\n",
      "0            81.07          9.96           8851.23         Planned   \n",
      "1            66.14          8.19           8827.55         Planned   \n",
      "2            54.58          5.72           8044.85     Implemented   \n",
      "3            94.61          4.42           7991.42  Not Applicable   \n",
      "4            47.12          5.26           8453.25  Not Applicable   \n",
      "\n",
      "   Impact_Score   Budget  Duration  \\\n",
      "0         26.82  4297174        56   \n",
      "1         93.53  1646897        16   \n",
      "2         50.34  3297803         8   \n",
      "3         92.34  2736412        27   \n",
      "4         15.84  5925745        10   \n",
      "\n",
      "                                        Stakeholders Public_Acceptance  \\\n",
      "0    ['Government', 'Local Community', 'Government']              High   \n",
      "1  ['Local Community', 'Local Community', 'Govern...            Medium   \n",
      "2  ['Environmental Organization', 'Local Communit...              High   \n",
      "3  ['Local Community', 'Government', 'Local Commu...              High   \n",
      "4  ['Government', 'Private Sector', 'Local Commun...            Medium   \n",
      "\n",
      "                           Sustainability_Practices  \n",
      "0  ['Green Infrastructure', 'Green Infrastructure']  \n",
      "1     ['Energy Efficiency', 'Green Infrastructure']  \n",
      "2     ['Energy Efficiency', 'Green Infrastructure']  \n",
      "3      ['Renewable Energy', 'Green Infrastructure']  \n",
      "4     ['Green Infrastructure', 'Energy Efficiency']  \n",
      "   Project_Type  Area_Impacted  Air_Emissions  Water_Pollution  Habitat_Loss  \\\n",
      "0             3          59.76         947.08            81.07          9.96   \n",
      "1             3          51.09         504.75            66.14          8.19   \n",
      "2             3          67.99         955.73            54.58          5.72   \n",
      "3             3          83.06         988.77            94.61          4.42   \n",
      "4             3          68.02         553.13            47.12          5.26   \n",
      "\n",
      "   Carbon_Footprint  \n",
      "0           8851.23  \n",
      "1           8827.55  \n",
      "2           8044.85  \n",
      "3           7991.42  \n",
      "4           8453.25  \n",
      "24.55218248418089\n",
      "[50.64708566 48.55842772 50.90260146 50.67307677 48.61989244]\n",
      "0    26.82\n",
      "1    93.53\n",
      "2    50.34\n",
      "3    92.34\n",
      "4    15.84\n",
      "Name: Impact_Score, dtype: float64\n",
      "Mean Squared Error: 810.1960671000747\n",
      "R-squared (Accuracy): 0.006775144070419126\n"
     ]
    },
    {
     "data": {
      "image/png": "[encoded data removed]",
      "text/plain": [
       "<Figure size 640x480 with 1 Axes>"
      ]
     },
     "metadata": {},
     "output_type": "display_data"
    }
   ],
   "source": [
    "import pandas as pd\n",
    "import numpy as np\n",
    "import matplotlib.pyplot as plt \n",
    "from sklearn.ensemble import RandomForestRegressor\n",
    "from sklearn.model_selection import train_test_split\n",
    "from sklearn.metrics import mean_absolute_error\n",
    "from sklearn.metrics import mean_squared_error, r2_score\n",
    "\n",
    "data = pd.read_csv('clean.csv')\n",
    "proj_mapping = {\n",
    "    'Urban Development' : 1,\n",
    "    'Energy' : 2,\n",
    "    'Construction' : 3,\n",
    "    'Transportation' : 4,\n",
    "    'Water Management' : 5\n",
    "}\n",
    "\n",
    "data['Project_Type'] = data['Project_Type'].replace(proj_mapping)\n",
    "print(data.head())\n",
    "\n",
    "features = ['Project_Type','Area_Impacted','Air_Emissions','Water_Pollution','Habitat_Loss','Carbon_Footprint']\n",
    "\n",
    "x = data[features]\n",
    "y = data.Impact_Score\n",
    "print(x.head())\n",
    "\n",
    "train_x, val_x, train_y, val_y = train_test_split(x, y, random_state = 0)\n",
    "\n",
    "model = RandomForestRegressor(max_depth =10, random_state=10, max_leaf_nodes = 8)\n",
    "model.fit(train_x, train_y)\n",
    "\n",
    "prediction = model.predict(val_x)\n",
    "print(mean_absolute_error(val_y, prediction))\n",
    "plt.plot([min(val_y), max(val_y)], [min(val_y), max(val_y)], color='red', linestyle='--')\n",
    "plt.xlabel('Orignal')\n",
    "plt.ylabel('pred')\n",
    "plt.plot()\n",
    "print(prediction[:5])\n",
    "print(data['Impact_Score'].head())\n",
    "\n",
    "# Make predictions on the validation set\n",
    "prediction = model.predict(val_x)\n",
    "\n",
    "# Calculate mean squared error (already included)\n",
    "mse = mean_squared_error(val_y, prediction)\n",
    "print(\"Mean Squared Error:\", mse)\n",
    "\n",
    "# Calculate R-squared (accuracy)\n",
    "accuracy = r2_score(val_y, prediction)\n",
    "print(\"R-squared (Accuracy):\", accuracy)"
   ]
  },
  {
   "cell_type": "code",
   "execution_count": null,
   "id": "139a657a-c135-4c4d-a232-3be13c46cf5d",
   "metadata": {},
   "outputs": [],
   "source": []
  }
 ],
 "metadata": {
  "kernelspec": {
   "display_name": "Python 3 (ipykernel)",
   "language": "python",
   "name": "python3"
  },
  "language_info": {
   "codemirror_mode": {
    "name": "ipython",
    "version": 3
   },
   "file_extension": ".py",
   "mimetype": "text/x-python",
   "name": "python",
   "nbconvert_exporter": "python",
   "pygments_lexer": "ipython3",
   "version": "3.12.3"
  }
 },
 "nbformat": 4,
 "nbformat_minor": 5
}
